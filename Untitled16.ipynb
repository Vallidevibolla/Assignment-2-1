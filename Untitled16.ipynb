{
  "nbformat": 4,
  "nbformat_minor": 0,
  "metadata": {
    "colab": {
      "name": "Untitled16.ipynb",
      "provenance": [],
      "authorship_tag": "ABX9TyPpbkySU1OUDkQDNs/d1B0a",
      "include_colab_link": true
    },
    "kernelspec": {
      "name": "python3",
      "display_name": "Python 3"
    },
    "language_info": {
      "name": "python"
    }
  },
  "cells": [
    {
      "cell_type": "markdown",
      "metadata": {
        "id": "view-in-github",
        "colab_type": "text"
      },
      "source": [
        "<a href=\"https://colab.research.google.com/github/Vallidevibolla/Assignment-2-1/blob/main/Untitled16.ipynb\" target=\"_parent\"><img src=\"https://colab.research.google.com/assets/colab-badge.svg\" alt=\"Open In Colab\"/></a>"
      ]
    },
    {
      "cell_type": "code",
      "metadata": {
        "colab": {
          "base_uri": "https://localhost:8080/",
          "height": 279
        },
        "id": "x-yfhpmOpfiG",
        "outputId": "13e63c5f-17fa-4b78-8715-b9e91ea3f86b"
      },
      "source": [
        "import numpy as np\n",
        "import matplotlib.pyplot as plt\n",
        "import numpy.linalg as LA\n",
        "\n",
        "plt.axis([-6,11,-6,11])\n",
        "\n",
        "plt.axis('on')\n",
        "\n",
        "\n",
        " #Generate line points\n",
        "def line_gen(A,B):\n",
        "  len =10\n",
        "  x_AB = np.zeros((2,len))\n",
        "  lam_1 = np.linspace(0,1,len)\n",
        "  for i in range(len):\n",
        "    temp1 = A + lam_1[i]*(B-A)\n",
        "    x_AB[:,i]= temp1.T\n",
        "  return x_AB\n",
        "  \n",
        "#Defining the points\n",
        "A = np.array([6,5])\n",
        "B = np.array([-4,3])\n",
        "C = np.array([0,9])\n",
        "\n",
        "#Generating lines\n",
        "x_AB = line_gen(A,B)\n",
        "x_BC = line_gen(B,C)\n",
        "x_CA = line_gen(C,A)\n",
        "\n",
        "#Plotting all lines\n",
        "plt.plot(x_AB[0,:],x_AB[1,:],label='$AB$')\n",
        "plt.plot(x_BC[0,:],x_BC[1,:],label='$BC$')\n",
        "plt.plot(x_CA[0,:],x_CA[1,:],label='$CA$')\n",
        "\n",
        "plt.plot(A[0], A[1], 'o')\n",
        "plt.text(A[0] * (1), A[1] * (1 + 0.1) , 'A')\n",
        "plt.plot(B[0], B[1], 'o')\n",
        "plt.text(B[0] * (1 - 0.2), B[1] * (1 + 0.1) , 'B')\n",
        "plt.plot(C[0], C[1], 'o')\n",
        "plt.text(C[0] * (1 + 0.03), C[1] * (1 - 0.1) , 'C')\n",
        "\n",
        "plt.xlabel('$x$')\n",
        "plt.ylabel('$y$')\n",
        "plt.legend(loc='best')\n",
        "plt.grid() # minor\n"
      ],
      "execution_count": 21,
      "outputs": [
        {
          "output_type": "display_data",
          "data": {
            "image/png": "[encoded data removed]",
            "text/plain": [
              "<Figure size 432x288 with 1 Axes>"
            ]
          },
          "metadata": {
            "tags": [],
            "needs_background": "light"
          }
        }
      ]
    }
  ]
}